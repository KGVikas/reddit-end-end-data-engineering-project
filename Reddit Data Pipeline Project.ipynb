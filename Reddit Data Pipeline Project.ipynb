{
 "cells": [
  {
   "cell_type": "code",
   "execution_count": 1,
   "id": "e3a8e3ab-bf8f-4bed-96d6-aadadf7e44be",
   "metadata": {},
   "outputs": [
    {
     "name": "stdout",
     "output_type": "stream",
     "text": [
      "Collecting praw\n",
      "  Downloading praw-7.8.1-py3-none-any.whl.metadata (9.4 kB)\n",
      "Collecting prawcore<3,>=2.4 (from praw)\n",
      "  Downloading prawcore-2.4.0-py3-none-any.whl.metadata (5.0 kB)\n",
      "Collecting update_checker>=0.18 (from praw)\n",
      "  Downloading update_checker-0.18.0-py3-none-any.whl.metadata (2.3 kB)\n",
      "Requirement already satisfied: websocket-client>=0.54.0 in c:\\python312\\lib\\site-packages (from praw) (1.8.0)\n",
      "Requirement already satisfied: requests<3.0,>=2.6.0 in c:\\python312\\lib\\site-packages (from prawcore<3,>=2.4->praw) (2.32.3)\n",
      "Requirement already satisfied: charset-normalizer<4,>=2 in c:\\python312\\lib\\site-packages (from requests<3.0,>=2.6.0->prawcore<3,>=2.4->praw) (3.3.2)\n",
      "Requirement already satisfied: idna<4,>=2.5 in c:\\python312\\lib\\site-packages (from requests<3.0,>=2.6.0->prawcore<3,>=2.4->praw) (3.7)\n",
      "Requirement already satisfied: urllib3<3,>=1.21.1 in c:\\python312\\lib\\site-packages (from requests<3.0,>=2.6.0->prawcore<3,>=2.4->praw) (2.2.2)\n",
      "Requirement already satisfied: certifi>=2017.4.17 in c:\\python312\\lib\\site-packages (from requests<3.0,>=2.6.0->prawcore<3,>=2.4->praw) (2024.7.4)\n",
      "Downloading praw-7.8.1-py3-none-any.whl (189 kB)\n",
      "Downloading prawcore-2.4.0-py3-none-any.whl (17 kB)\n",
      "Downloading update_checker-0.18.0-py3-none-any.whl (7.0 kB)\n",
      "Installing collected packages: update_checker, prawcore, praw\n",
      "Successfully installed praw-7.8.1 prawcore-2.4.0 update_checker-0.18.0\n",
      "Note: you may need to restart the kernel to use updated packages.\n"
     ]
    },
    {
     "name": "stderr",
     "output_type": "stream",
     "text": [
      "WARNING: Ignoring invalid distribution ~ (C:\\Python312\\Lib\\site-packages)\n",
      "WARNING: Ignoring invalid distribution ~ip (C:\\Python312\\Lib\\site-packages)\n",
      "WARNING: Ignoring invalid distribution ~ (C:\\Python312\\Lib\\site-packages)\n",
      "WARNING: Ignoring invalid distribution ~ip (C:\\Python312\\Lib\\site-packages)\n",
      "WARNING: Ignoring invalid distribution ~ (C:\\Python312\\Lib\\site-packages)\n",
      "WARNING: Ignoring invalid distribution ~ip (C:\\Python312\\Lib\\site-packages)\n"
     ]
    }
   ],
   "source": [
    "pip install praw"
   ]
  },
  {
   "cell_type": "code",
   "execution_count": null,
   "id": "c581dd52-1998-488f-ba71-6c05f0ff31e9",
   "metadata": {},
   "outputs": [],
   "source": [
    "import praw\n",
    "from datetime import datetime, timezone\n",
    "import pandas as pd\n",
    "import webbrowser"
   ]
  },
  {
   "cell_type": "code",
   "execution_count": null,
   "id": "1943eac7-b43d-4c04-ab23-3d6bfa9633ba",
   "metadata": {},
   "outputs": [],
   "source": [
    "reddit = praw.Reddit(\n",
    "    client_id='',\n",
    "    client_secret='',\n",
    "    user_agent=''\n",
    "    )\n",
    "subreddit = reddit.subreddit('memes')\n",
    "post_list=[]\n",
    "for post in subreddit.hot(limit=100):\n",
    "    created_time = datetime.fromtimestamp(post.created_utc, tz=timezone.utc)\n",
    "    created_at = created_time.strftime('%Y-%m-%d %H:%M:%S UTC')\n",
    "    post_element={'id':post.id,\n",
    "                  'Title':post.title,\n",
    "                  'Author':post.author,\n",
    "                  'Score':post.score,\n",
    "                  'Number of Comments':post.num_comments,\n",
    "                  'Time of Creation':created_at,\n",
    "                  'URL':post.url\n",
    "                 }\n",
    "    post_list.append(post_element)\n"
   ]
  },
  {
   "cell_type": "code",
   "execution_count": 76,
   "id": "cb3d4f96-c12f-499b-9558-ab08500f4467",
   "metadata": {},
   "outputs": [
    {
     "data": {
      "text/html": [
       "<div>\n",
       "<style scoped>\n",
       "    .dataframe tbody tr th:only-of-type {\n",
       "        vertical-align: middle;\n",
       "    }\n",
       "\n",
       "    .dataframe tbody tr th {\n",
       "        vertical-align: top;\n",
       "    }\n",
       "\n",
       "    .dataframe thead th {\n",
       "        text-align: right;\n",
       "    }\n",
       "</style>\n",
       "<table border=\"1\" class=\"dataframe\">\n",
       "  <thead>\n",
       "    <tr style=\"text-align: right;\">\n",
       "      <th></th>\n",
       "      <th>id</th>\n",
       "      <th>Title</th>\n",
       "      <th>Author</th>\n",
       "      <th>Score</th>\n",
       "      <th>Number of Comments</th>\n",
       "      <th>Time of Creation</th>\n",
       "      <th>URL</th>\n",
       "    </tr>\n",
       "  </thead>\n",
       "  <tbody>\n",
       "    <tr>\n",
       "      <th>0</th>\n",
       "      <td>1l3sjl7</td>\n",
       "      <td>A big SIMP</td>\n",
       "      <td>astrannova</td>\n",
       "      <td>2101</td>\n",
       "      <td>53</td>\n",
       "      <td>2025-06-05 06:49:14 UTC</td>\n",
       "      <td>https://i.redd.it/haelfknl225f1.jpeg</td>\n",
       "    </tr>\n",
       "    <tr>\n",
       "      <th>1</th>\n",
       "      <td>1l3i4yw</td>\n",
       "      <td>Calling it now: this is how it's gonna go down</td>\n",
       "      <td>No-Future-4644</td>\n",
       "      <td>6830</td>\n",
       "      <td>227</td>\n",
       "      <td>2025-06-04 21:48:31 UTC</td>\n",
       "      <td>https://i.redd.it/zf94kx35ez4f1.jpeg</td>\n",
       "    </tr>\n",
       "    <tr>\n",
       "      <th>2</th>\n",
       "      <td>1l3cb76</td>\n",
       "      <td>Cheers everyone...</td>\n",
       "      <td>patilrooshi</td>\n",
       "      <td>14250</td>\n",
       "      <td>828</td>\n",
       "      <td>2025-06-04 17:56:36 UTC</td>\n",
       "      <td>https://i.redd.it/98ov6rcr8y4f1.jpeg</td>\n",
       "    </tr>\n",
       "    <tr>\n",
       "      <th>3</th>\n",
       "      <td>1l3rxwg</td>\n",
       "      <td>The state of Florida approves this message</td>\n",
       "      <td>greencolorlessdreams</td>\n",
       "      <td>848</td>\n",
       "      <td>41</td>\n",
       "      <td>2025-06-05 06:10:20 UTC</td>\n",
       "      <td>https://i.redd.it/7zfggjciv15f1.png</td>\n",
       "    </tr>\n",
       "    <tr>\n",
       "      <th>4</th>\n",
       "      <td>1l39xxq</td>\n",
       "      <td>Cyberpunk 2077 Flashbacks Intensify</td>\n",
       "      <td>Nevek_Green</td>\n",
       "      <td>21685</td>\n",
       "      <td>508</td>\n",
       "      <td>2025-06-04 16:25:02 UTC</td>\n",
       "      <td>https://i.redd.it/0chk5bm4sx4f1.png</td>\n",
       "    </tr>\n",
       "  </tbody>\n",
       "</table>\n",
       "</div>"
      ],
      "text/plain": [
       "        id                                           Title  \\\n",
       "0  1l3sjl7                                      A big SIMP   \n",
       "1  1l3i4yw  Calling it now: this is how it's gonna go down   \n",
       "2  1l3cb76                              Cheers everyone...   \n",
       "3  1l3rxwg      The state of Florida approves this message   \n",
       "4  1l39xxq             Cyberpunk 2077 Flashbacks Intensify   \n",
       "\n",
       "                 Author  Score  Number of Comments         Time of Creation  \\\n",
       "0            astrannova   2101                  53  2025-06-05 06:49:14 UTC   \n",
       "1        No-Future-4644   6830                 227  2025-06-04 21:48:31 UTC   \n",
       "2           patilrooshi  14250                 828  2025-06-04 17:56:36 UTC   \n",
       "3  greencolorlessdreams    848                  41  2025-06-05 06:10:20 UTC   \n",
       "4           Nevek_Green  21685                 508  2025-06-04 16:25:02 UTC   \n",
       "\n",
       "                                    URL  \n",
       "0  https://i.redd.it/haelfknl225f1.jpeg  \n",
       "1  https://i.redd.it/zf94kx35ez4f1.jpeg  \n",
       "2  https://i.redd.it/98ov6rcr8y4f1.jpeg  \n",
       "3   https://i.redd.it/7zfggjciv15f1.png  \n",
       "4   https://i.redd.it/0chk5bm4sx4f1.png  "
      ]
     },
     "execution_count": 76,
     "metadata": {},
     "output_type": "execute_result"
    }
   ],
   "source": [
    "post_df=pd.DataFrame.from_dict(post_list)\n",
    "post_df.head()"
   ]
  },
  {
   "cell_type": "code",
   "execution_count": 77,
   "id": "7e26109b-b61e-44c3-a995-9a3217d4e1a1",
   "metadata": {},
   "outputs": [
    {
     "name": "stdout",
     "output_type": "stream",
     "text": [
      "<class 'pandas.core.frame.DataFrame'>\n",
      "RangeIndex: 100 entries, 0 to 99\n",
      "Data columns (total 7 columns):\n",
      " #   Column              Non-Null Count  Dtype \n",
      "---  ------              --------------  ----- \n",
      " 0   id                  100 non-null    object\n",
      " 1   Title               100 non-null    object\n",
      " 2   Author              100 non-null    object\n",
      " 3   Score               100 non-null    int64 \n",
      " 4   Number of Comments  100 non-null    int64 \n",
      " 5   Time of Creation    100 non-null    object\n",
      " 6   URL                 100 non-null    object\n",
      "dtypes: int64(2), object(5)\n",
      "memory usage: 5.6+ KB\n"
     ]
    }
   ],
   "source": [
    "post_df.info()"
   ]
  },
  {
   "cell_type": "code",
   "execution_count": 78,
   "id": "5ca7e394-d3cf-47fa-a954-7bc467c1f2b4",
   "metadata": {},
   "outputs": [],
   "source": [
    "post_df=post_df.drop_duplicates(subset=['id'])"
   ]
  },
  {
   "cell_type": "code",
   "execution_count": 79,
   "id": "3c9f0563-1781-4257-aba7-a769271e3709",
   "metadata": {},
   "outputs": [
    {
     "name": "stdout",
     "output_type": "stream",
     "text": [
      "<class 'pandas.core.frame.DataFrame'>\n",
      "RangeIndex: 100 entries, 0 to 99\n",
      "Data columns (total 7 columns):\n",
      " #   Column              Non-Null Count  Dtype \n",
      "---  ------              --------------  ----- \n",
      " 0   id                  100 non-null    object\n",
      " 1   Title               100 non-null    object\n",
      " 2   Author              100 non-null    object\n",
      " 3   Score               100 non-null    int64 \n",
      " 4   Number of Comments  100 non-null    int64 \n",
      " 5   Time of Creation    100 non-null    object\n",
      " 6   URL                 100 non-null    object\n",
      "dtypes: int64(2), object(5)\n",
      "memory usage: 5.6+ KB\n"
     ]
    }
   ],
   "source": [
    "post_df.info()"
   ]
  },
  {
   "cell_type": "code",
   "execution_count": 80,
   "id": "4dbbe8f9-2ecd-46d0-b7d5-59a850d3ff40",
   "metadata": {},
   "outputs": [],
   "source": [
    "post_df['Time of Creation']=pd.to_datetime(post_df['Time of Creation'])"
   ]
  },
  {
   "cell_type": "code",
   "execution_count": 81,
   "id": "fa64da7e-d724-468a-8b45-9828be064803",
   "metadata": {},
   "outputs": [
    {
     "data": {
      "text/html": [
       "<div>\n",
       "<style scoped>\n",
       "    .dataframe tbody tr th:only-of-type {\n",
       "        vertical-align: middle;\n",
       "    }\n",
       "\n",
       "    .dataframe tbody tr th {\n",
       "        vertical-align: top;\n",
       "    }\n",
       "\n",
       "    .dataframe thead th {\n",
       "        text-align: right;\n",
       "    }\n",
       "</style>\n",
       "<table border=\"1\" class=\"dataframe\">\n",
       "  <thead>\n",
       "    <tr style=\"text-align: right;\">\n",
       "      <th></th>\n",
       "      <th>id</th>\n",
       "      <th>Title</th>\n",
       "      <th>Author</th>\n",
       "      <th>Score</th>\n",
       "      <th>Number of Comments</th>\n",
       "      <th>Time of Creation</th>\n",
       "      <th>URL</th>\n",
       "    </tr>\n",
       "  </thead>\n",
       "  <tbody>\n",
       "    <tr>\n",
       "      <th>0</th>\n",
       "      <td>1l3sjl7</td>\n",
       "      <td>A big SIMP</td>\n",
       "      <td>astrannova</td>\n",
       "      <td>2101</td>\n",
       "      <td>53</td>\n",
       "      <td>2025-06-05 06:49:14+00:00</td>\n",
       "      <td>https://i.redd.it/haelfknl225f1.jpeg</td>\n",
       "    </tr>\n",
       "    <tr>\n",
       "      <th>1</th>\n",
       "      <td>1l3i4yw</td>\n",
       "      <td>Calling it now: this is how it's gonna go down</td>\n",
       "      <td>No-Future-4644</td>\n",
       "      <td>6830</td>\n",
       "      <td>227</td>\n",
       "      <td>2025-06-04 21:48:31+00:00</td>\n",
       "      <td>https://i.redd.it/zf94kx35ez4f1.jpeg</td>\n",
       "    </tr>\n",
       "    <tr>\n",
       "      <th>2</th>\n",
       "      <td>1l3cb76</td>\n",
       "      <td>Cheers everyone...</td>\n",
       "      <td>patilrooshi</td>\n",
       "      <td>14250</td>\n",
       "      <td>828</td>\n",
       "      <td>2025-06-04 17:56:36+00:00</td>\n",
       "      <td>https://i.redd.it/98ov6rcr8y4f1.jpeg</td>\n",
       "    </tr>\n",
       "    <tr>\n",
       "      <th>3</th>\n",
       "      <td>1l3rxwg</td>\n",
       "      <td>The state of Florida approves this message</td>\n",
       "      <td>greencolorlessdreams</td>\n",
       "      <td>848</td>\n",
       "      <td>41</td>\n",
       "      <td>2025-06-05 06:10:20+00:00</td>\n",
       "      <td>https://i.redd.it/7zfggjciv15f1.png</td>\n",
       "    </tr>\n",
       "    <tr>\n",
       "      <th>4</th>\n",
       "      <td>1l39xxq</td>\n",
       "      <td>Cyberpunk 2077 Flashbacks Intensify</td>\n",
       "      <td>Nevek_Green</td>\n",
       "      <td>21685</td>\n",
       "      <td>508</td>\n",
       "      <td>2025-06-04 16:25:02+00:00</td>\n",
       "      <td>https://i.redd.it/0chk5bm4sx4f1.png</td>\n",
       "    </tr>\n",
       "  </tbody>\n",
       "</table>\n",
       "</div>"
      ],
      "text/plain": [
       "        id                                           Title  \\\n",
       "0  1l3sjl7                                      A big SIMP   \n",
       "1  1l3i4yw  Calling it now: this is how it's gonna go down   \n",
       "2  1l3cb76                              Cheers everyone...   \n",
       "3  1l3rxwg      The state of Florida approves this message   \n",
       "4  1l39xxq             Cyberpunk 2077 Flashbacks Intensify   \n",
       "\n",
       "                 Author  Score  Number of Comments          Time of Creation  \\\n",
       "0            astrannova   2101                  53 2025-06-05 06:49:14+00:00   \n",
       "1        No-Future-4644   6830                 227 2025-06-04 21:48:31+00:00   \n",
       "2           patilrooshi  14250                 828 2025-06-04 17:56:36+00:00   \n",
       "3  greencolorlessdreams    848                  41 2025-06-05 06:10:20+00:00   \n",
       "4           Nevek_Green  21685                 508 2025-06-04 16:25:02+00:00   \n",
       "\n",
       "                                    URL  \n",
       "0  https://i.redd.it/haelfknl225f1.jpeg  \n",
       "1  https://i.redd.it/zf94kx35ez4f1.jpeg  \n",
       "2  https://i.redd.it/98ov6rcr8y4f1.jpeg  \n",
       "3   https://i.redd.it/7zfggjciv15f1.png  \n",
       "4   https://i.redd.it/0chk5bm4sx4f1.png  "
      ]
     },
     "execution_count": 81,
     "metadata": {},
     "output_type": "execute_result"
    }
   ],
   "source": [
    "post_df.head()"
   ]
  },
  {
   "cell_type": "code",
   "execution_count": 84,
   "id": "573e0f2b-235a-4c97-86f5-b9ee4043f864",
   "metadata": {},
   "outputs": [
    {
     "name": "stdout",
     "output_type": "stream",
     "text": [
      "To open the post with the most number of upvotes: press 1\n",
      "To open the post with the most number of comments: press 2\n",
      " 2\n"
     ]
    },
    {
     "name": "stdout",
     "output_type": "stream",
     "text": [
      "Post with the most comments: Cheers everyone...\n"
     ]
    }
   ],
   "source": [
    "def show_top_post(choice):\n",
    "    if choice==1:\n",
    "        top_post=post_df.loc[post_df['Score'].idxmax()]\n",
    "        print(f'Most Upvoted post: {top_post['Title']}')\n",
    "\n",
    "    elif choice==2:\n",
    "        top_post=post_df.loc[post_df['Number of Comments'].idxmax()]\n",
    "        print(f'Post with the most comments: {top_post['Title']}')\n",
    "    else:\n",
    "        print('Invalid Choice')\n",
    "        \n",
    "    webbrowser.open(top_post['URL'])\n",
    "\n",
    "choice=int(input('To open the post with the most number of upvotes: press 1\\nTo open the post with the most number of comments: press 2\\n'))\n",
    "show_top_post(choice)"
   ]
  }
 ],
 "metadata": {
  "kernelspec": {
   "display_name": "Python 3 (ipykernel)",
   "language": "python",
   "name": "python3"
  },
  "language_info": {
   "codemirror_mode": {
    "name": "ipython",
    "version": 3
   },
   "file_extension": ".py",
   "mimetype": "text/x-python",
   "name": "python",
   "nbconvert_exporter": "python",
   "pygments_lexer": "ipython3",
   "version": "3.12.5"
  }
 },
 "nbformat": 4,
 "nbformat_minor": 5
}
